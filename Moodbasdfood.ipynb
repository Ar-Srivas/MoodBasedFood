{
 "cells": [
  {
   "cell_type": "code",
   "execution_count": 7,
   "metadata": {},
   "outputs": [
    {
     "name": "stdout",
     "output_type": "stream",
     "text": [
      "<class 'pandas.core.frame.DataFrame'>\n",
      "RangeIndex: 6871 entries, 0 to 6870\n",
      "Data columns (total 15 columns):\n",
      " #   Column                  Non-Null Count  Dtype \n",
      "---  ------                  --------------  ----- \n",
      " 0   Srno                    6871 non-null   int64 \n",
      " 1   RecipeName              6871 non-null   object\n",
      " 2   TranslatedRecipeName    6871 non-null   object\n",
      " 3   Ingredients             6865 non-null   object\n",
      " 4   TranslatedIngredients   6865 non-null   object\n",
      " 5   PrepTimeInMins          6871 non-null   int64 \n",
      " 6   CookTimeInMins          6871 non-null   int64 \n",
      " 7   TotalTimeInMins         6871 non-null   int64 \n",
      " 8   Servings                6871 non-null   int64 \n",
      " 9   Cuisine                 6871 non-null   object\n",
      " 10  Course                  6871 non-null   object\n",
      " 11  Diet                    6871 non-null   object\n",
      " 12  Instructions            6871 non-null   object\n",
      " 13  TranslatedInstructions  6871 non-null   object\n",
      " 14  URL                     6871 non-null   object\n",
      "dtypes: int64(5), object(10)\n",
      "memory usage: 805.3+ KB\n"
     ]
    }
   ],
   "source": [
    "import pandas as pd \n",
    "import numpy as np \n",
    "import matplotlib.pyplot as plt \n",
    "\n",
    "data=pd.read_csv('IndianFoodDatasetCSV.csv')\n",
    "\n",
    "data.info()"
   ]
  },
  {
   "cell_type": "code",
   "execution_count": 9,
   "metadata": {},
   "outputs": [],
   "source": [
    "from sklearn.feature_extraction.text import TfidfVectorizer\n",
    "from sklearn.metrics.pairwise import linear_kernel\n",
    "data.dropna(inplace=True)"
   ]
  },
  {
   "cell_type": "code",
   "execution_count": 10,
   "metadata": {},
   "outputs": [],
   "source": [
    "vectorizer = TfidfVectorizer()\n",
    "matrix= vectorizer.fit_transform(data['TranslatedIngredients'])\n",
    "cosine_similarities = linear_kernel(matrix,matrix)\n",
    "food = data['TranslatedRecipeName']\n",
    "indices = pd.Series(data.index , index=data['TranslatedRecipeName'])"
   ]
  },
  {
   "cell_type": "code",
   "execution_count": 12,
   "metadata": {},
   "outputs": [],
   "source": [
    "def recipe_recommender(name):\n",
    "    idx=indices[name]\n",
    "    sim_score = list(enumerate(cosine_similarities[idx]))\n",
    "    sim_score = sorted(sim_score, key=lambda x:x[1], reverse=True)\n",
    "    sim_score = sim_score[1:31]\n",
    "    food_ind = [i[0] for i in sim_score]\n",
    "    return food.iloc[food_ind]"
   ]
  },
  {
   "cell_type": "code",
   "execution_count": 18,
   "metadata": {},
   "outputs": [
    {
     "data": {
      "text/plain": [
       "5642                            Chicken Parmigiana Recipe\n",
       "6837                      Black Bean Walnut Burger Recipe\n",
       "3205                  Cheesy Loaded Veggie Nachos Recipes\n",
       "980     Mexican Style Vegetarian Chimichanga Recipe-De...\n",
       "2890             Spicy Mexican Layered Chilli Rice Recipe\n",
       "6250                          Spicy Marinara Sauce Recipe\n",
       "5566      Stir Fried Wild Rice with Peri Peri Tofu Recipe\n",
       "5976             Mini Bread Pizza Recipe - Cheesy Canapes\n",
       "5865                      Chilli Capsicum Macaroni Recipe\n",
       "391                         Cauliflower Croquettes Recipe\n",
       "6046                            Egg Lifafa Paratha Recipe\n",
       "6274            Mushroom Cutlet Vegetarian Sizzler Recipe\n",
       "956         Mexican Style Scrambled Egg Enchiladas Recipe\n",
       "667                            Masala Palak Bhurji Recipe\n",
       "601                              Corn Cheese Balls Recipe\n",
       "284     Zucchini Tater Tots Recipe - A Delicious Party...\n",
       "3201                       Khakara Vegetable Pizza Recipe\n",
       "3448    Bruschetta With Coriander Mint Pesto And Red B...\n",
       "2832                               Vegetable Chops Recipe\n",
       "3304                            Veggie Chop Burger Recipe\n",
       "1293                               Chicken Burrito Recipe\n",
       "5575                   Jalapeno Cilantro Lime Rice Recipe\n",
       "2943    Red Bean Mexican Burrito Bowl Recipe - Roz Ka ...\n",
       "5734    Achari Paneer Mini Bread Bowl With Cheesy Twis...\n",
       "4364                        Peri Peri Fish Fingers Recipe\n",
       "2472    Honey Roasted Sweet Potato With Red Onions Recipe\n",
       "558                          Vegetarian Sloppy Joe Recipe\n",
       "1931                             Spinach Enchilada Recipe\n",
       "4103            Spicy Mixed Vegetables Rice Cutlet Recipe\n",
       "3601           Lemongrass Flavored Tofu Fried Rice Recipe\n",
       "Name: TranslatedRecipeName, dtype: object"
      ]
     },
     "execution_count": 18,
     "metadata": {},
     "output_type": "execute_result"
    }
   ],
   "source": [
    "recipe_recommender('Veg Chili Cheese Burgers Recipe')"
   ]
  }
 ],
 "metadata": {
  "kernelspec": {
   "display_name": "Python 3",
   "language": "python",
   "name": "python3"
  },
  "language_info": {
   "codemirror_mode": {
    "name": "ipython",
    "version": 3
   },
   "file_extension": ".py",
   "mimetype": "text/x-python",
   "name": "python",
   "nbconvert_exporter": "python",
   "pygments_lexer": "ipython3",
   "version": "3.12.4"
  }
 },
 "nbformat": 4,
 "nbformat_minor": 2
}
