{
 "cells": [
  {
   "cell_type": "code",
   "execution_count": 41,
   "metadata": {},
   "outputs": [
    {
     "name": "stdout",
     "output_type": "stream",
     "text": [
      "<class 'pandas.core.frame.DataFrame'>\n",
      "RangeIndex: 6871 entries, 0 to 6870\n",
      "Data columns (total 15 columns):\n",
      " #   Column                  Non-Null Count  Dtype \n",
      "---  ------                  --------------  ----- \n",
      " 0   Srno                    6871 non-null   int64 \n",
      " 1   RecipeName              6871 non-null   object\n",
      " 2   TranslatedRecipeName    6871 non-null   object\n",
      " 3   Ingredients             6865 non-null   object\n",
      " 4   TranslatedIngredients   6865 non-null   object\n",
      " 5   PrepTimeInMins          6871 non-null   int64 \n",
      " 6   CookTimeInMins          6871 non-null   int64 \n",
      " 7   TotalTimeInMins         6871 non-null   int64 \n",
      " 8   Servings                6871 non-null   int64 \n",
      " 9   Cuisine                 6871 non-null   object\n",
      " 10  Course                  6871 non-null   object\n",
      " 11  Diet                    6871 non-null   object\n",
      " 12  Instructions            6871 non-null   object\n",
      " 13  TranslatedInstructions  6871 non-null   object\n",
      " 14  URL                     6871 non-null   object\n",
      "dtypes: int64(5), object(10)\n",
      "memory usage: 805.3+ KB\n"
     ]
    }
   ],
   "source": [
    "import pandas as pd \n",
    "import matplotlib.pyplot as plt \n",
    "\n",
    "data=pd.read_csv('IndianFoodDatasetCSV.csv')\n",
    "\n",
    "data.info()"
   ]
  },
  {
   "cell_type": "code",
   "execution_count": 42,
   "metadata": {},
   "outputs": [],
   "source": [
    "from sklearn.feature_extraction.text import TfidfVectorizer\n",
    "from sklearn.metrics.pairwise import linear_kernel\n",
    "data.dropna(inplace=True)"
   ]
  },
  {
   "cell_type": "code",
   "execution_count": 43,
   "metadata": {},
   "outputs": [],
   "source": [
    "def preprocess_keywords(keywords):\n",
    "    keywords = keywords.lower()\n",
    "    keywords = keywords.replace(\",\", \"\")\n",
    "    return keywords  # Return a string, not a list\n"
   ]
  },
  {
   "cell_type": "code",
   "execution_count": 44,
   "metadata": {},
   "outputs": [],
   "source": [
    "def recipe_recommender(keywords):\n",
    "    preprocessed_keywords = preprocess_keywords(keywords)\n",
    "    all_text = data['TranslatedIngredients'].tolist()\n",
    "    lowered_text = [text.lower() for text in all_text]\n",
    "    lowered_text.append(preprocessed_keywords)  # Append the preprocessed keywords string\n",
    "    vectorizer = TfidfVectorizer()\n",
    "    matrix = vectorizer.fit_transform(lowered_text)\n",
    "    user_vector = matrix[-1]\n",
    "    cosine_similarities = linear_kernel(user_vector, matrix[:-1])  # Compare with all recipes except the last one (user input)\n",
    "    food_ind = similar_recipes(cosine_similarities[0])\n",
    "    return data['TranslatedRecipeName'].iloc[food_ind]"
   ]
  },
  {
   "cell_type": "code",
   "execution_count": 45,
   "metadata": {},
   "outputs": [],
   "source": [
    "def similar_recipes(similarities):\n",
    "    sim_score = list(enumerate(similarities))\n",
    "    sim_score = sorted(sim_score, key=lambda x:x[1], reverse=True)\n",
    "    sim_score = sim_score[:30]  # Get top 30 similar recipes\n",
    "    food_ind = [i[0] for i in sim_score]\n",
    "    return food_ind\n"
   ]
  },
  {
   "cell_type": "code",
   "execution_count": 46,
   "metadata": {},
   "outputs": [
    {
     "name": "stdout",
     "output_type": "stream",
     "text": [
      "Recommended recipes:\n",
      "2057                           Chicken Malai Kabab Recipe\n",
      "1692                 Chicken In Tomato Onion Gravy Recipe\n",
      "2175                          Chicken And Egg Soup Recipe\n",
      "2987              Slow Cooker Mexican Chicken Stew Recipe\n",
      "5263                         Peanut Butter Chicken Recipe\n",
      "5321          Murgh Masala Recipe - Chicken Tangdi Masala\n",
      "5448                          Mexican Chicken Soup Recipe\n",
      "6427                          French Onion Chicken Recipe\n",
      "457     Ginger Sesame Chicken With Bok Choy And Mushro...\n",
      "253                   Chettinad Dry Pepper Chicken Recipe\n",
      "4526                       Coriander Chicken Roast Recipe\n",
      "6639                     Nando's Peri Peri Chicken Recipe\n",
      "3327              Spicy Moroccan Rice With Chicken Recipe\n",
      "5640                         Grilled Chicken Salad Recipe\n",
      "6079                        Dragon Chicken Sizzler Recipe\n",
      "3074                    Japanese Chicken Udon Soup Recipe\n",
      "5996             Spicy Chicken Curry Recipe In Naga Style\n",
      "1469                  Sweet Chili & Orange Chicken Recipe\n",
      "6559              Spicy Mango Lime Grilled Chicken Recipe\n",
      "6532               Chicken Wings With Bhuna Masala Recipe\n",
      "3751                          Cheesy Chicken Tikka Recipe\n",
      "6301                            Chicken Masala Fry Recipe\n",
      "5744            Goan Style Chicken Galinha Cafreal Recipe\n",
      "5523                  Chicken Mole With Brown Rice Recipe\n",
      "1599    Mizoram Style Arsa Beipenek Recipe  - Spicy Ch...\n",
      "3450                  Restaurant Style Chicken 555 Recipe\n",
      "3743                Hunan Style Sweet Sour Chicken Recipe\n",
      "3840    Nandan Kozhi Recipe  - Kerala Style Chicken Curry\n",
      "864                       Garlic Red Chicken Gravy Recipe\n",
      "1915    Chinese Fried Rice Recipe With Chicken And Shr...\n",
      "Name: TranslatedRecipeName, dtype: object\n"
     ]
    }
   ],
   "source": [
    "keywords = input(\"Enter food item\")\n",
    "recommendations = recipe_recommender(keywords)\n",
    "\n",
    "print(\"Recommended recipes:\")\n",
    "print(recommendations)"
   ]
  },
  {
   "cell_type": "code",
   "execution_count": null,
   "metadata": {},
   "outputs": [],
   "source": []
  }
 ],
 "metadata": {
  "kernelspec": {
   "display_name": "Python 3",
   "language": "python",
   "name": "python3"
  },
  "language_info": {
   "codemirror_mode": {
    "name": "ipython",
    "version": 3
   },
   "file_extension": ".py",
   "mimetype": "text/x-python",
   "name": "python",
   "nbconvert_exporter": "python",
   "pygments_lexer": "ipython3",
   "version": "3.12.4"
  }
 },
 "nbformat": 4,
 "nbformat_minor": 2
}
